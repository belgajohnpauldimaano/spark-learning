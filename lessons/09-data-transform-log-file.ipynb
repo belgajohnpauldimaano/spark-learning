{
 "cells": [
  {
   "cell_type": "code",
   "execution_count": 3,
   "metadata": {},
   "outputs": [],
   "source": [
    "from pyspark.sql import *\n",
    "from pyspark.sql.functions import *"
   ]
  },
  {
   "cell_type": "code",
   "execution_count": 4,
   "metadata": {},
   "outputs": [
    {
     "name": "stderr",
     "output_type": "stream",
     "text": [
      "Setting default log level to \"WARN\".\n",
      "To adjust logging level use sc.setLogLevel(newLevel). For SparkR, use setLogLevel(newLevel).\n",
      "23/08/26 00:16:35 WARN NativeCodeLoader: Unable to load native-hadoop library for your platform... using builtin-java classes where applicable\n"
     ]
    }
   ],
   "source": [
    "spark = SparkSession \\\n",
    "        .builder \\\n",
    "        .master(\"local[3]\") \\\n",
    "        .appName(\"LogFileDome\") \\\n",
    "        .getOrCreate()"
   ]
  },
  {
   "cell_type": "code",
   "execution_count": 8,
   "metadata": {},
   "outputs": [],
   "source": [
    "file_df = spark.read.text(\"../data/apache_logs.txt\")\n"
   ]
  },
  {
   "cell_type": "code",
   "execution_count": 10,
   "metadata": {},
   "outputs": [
    {
     "name": "stdout",
     "output_type": "stream",
     "text": [
      "root\n",
      " |-- value: string (nullable = true)\n",
      "\n"
     ]
    }
   ],
   "source": [
    "file_df.printSchema()"
   ]
  },
  {
   "cell_type": "code",
   "execution_count": 12,
   "metadata": {},
   "outputs": [],
   "source": [
    "log_reg = r'^(\\S+) (\\S+) (\\S+) \\[([\\w:/]+\\s[+\\-]\\d{4})\\] \"(\\S+) (\\S+) (\\S+)\" (\\d{3}) (\\S+) \"(\\S+)\" \"([^\"]*)'\n",
    "\n",
    "logs_df = file_df.select(regexp_extract('value', log_reg, 1).alias('ip'),\n",
    "                         regexp_extract('value', log_reg, 4).alias('date'),\n",
    "                         regexp_extract('value', log_reg, 6).alias('request'),\n",
    "                         regexp_extract('value', log_reg, 10).alias('referrer'),\n",
    "                         )"
   ]
  },
  {
   "cell_type": "code",
   "execution_count": 13,
   "metadata": {},
   "outputs": [
    {
     "name": "stdout",
     "output_type": "stream",
     "text": [
      "root\n",
      " |-- ip: string (nullable = true)\n",
      " |-- date: string (nullable = true)\n",
      " |-- request: string (nullable = true)\n",
      " |-- referrer: string (nullable = true)\n",
      "\n"
     ]
    }
   ],
   "source": [
    "logs_df.printSchema()"
   ]
  },
  {
   "cell_type": "code",
   "execution_count": 14,
   "metadata": {},
   "outputs": [
    {
     "name": "stderr",
     "output_type": "stream",
     "text": [
      "[Stage 0:>                                                          (0 + 1) / 1]\r"
     ]
    },
    {
     "name": "stdout",
     "output_type": "stream",
     "text": [
      "+---------------------------------+-----+\n",
      "|referrer                         |count|\n",
      "+---------------------------------+-----+\n",
      "|http://ijavascript.cn            |1    |\n",
      "|http://www.google.co.tz          |1    |\n",
      "|http://www.google.ca             |6    |\n",
      "|https://www.google.hr            |2    |\n",
      "|https://www.google.ch            |1    |\n",
      "|http://www.google.ru             |6    |\n",
      "|http://www.raspberrypi-spanish.es|1    |\n",
      "|http://semicomplete.com          |2001 |\n",
      "|http://manpages.ubuntu.com       |2    |\n",
      "|http://kufli.blogspot.fr         |1    |\n",
      "+---------------------------------+-----+\n",
      "only showing top 10 rows\n",
      "\n"
     ]
    },
    {
     "name": "stderr",
     "output_type": "stream",
     "text": [
      "                                                                                \r"
     ]
    }
   ],
   "source": [
    "logs_df \\\n",
    "    .where(\"trim(referrer) != '-'\") \\\n",
    "    .withColumn(\"referrer\", substring_index(\"referrer\", \"/\", 3)) \\\n",
    "    .groupBy(\"referrer\") \\\n",
    "    .count() \\\n",
    "    .show(10, truncate=False)"
   ]
  }
 ],
 "metadata": {
  "kernelspec": {
   "display_name": ".env",
   "language": "python",
   "name": "python3"
  },
  "language_info": {
   "codemirror_mode": {
    "name": "ipython",
    "version": 3
   },
   "file_extension": ".py",
   "mimetype": "text/x-python",
   "name": "python",
   "nbconvert_exporter": "python",
   "pygments_lexer": "ipython3",
   "version": "3.9.6"
  },
  "orig_nbformat": 4
 },
 "nbformat": 4,
 "nbformat_minor": 2
}
