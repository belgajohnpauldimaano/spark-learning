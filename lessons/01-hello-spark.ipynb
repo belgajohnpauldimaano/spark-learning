{
 "cells": [
  {
   "cell_type": "code",
   "execution_count": 61,
   "metadata": {},
   "outputs": [],
   "source": [
    "from pyspark.sql import *\n",
    "import LoggerProvider"
   ]
  },
  {
   "cell_type": "code",
   "execution_count": 62,
   "metadata": {},
   "outputs": [],
   "source": [
    "spark = SparkSession.builder \\\n",
    "            .appName(\"Hello Sparkx\") \\\n",
    "            .master(\"local[2]\") \\\n",
    "            .getOrCreate()"
   ]
  },
  {
   "cell_type": "code",
   "execution_count": 63,
   "metadata": {},
   "outputs": [
    {
     "name": "stdout",
     "output_type": "stream",
     "text": [
      "org.apache.log4j.Logger@7eef6e35\n"
     ]
    },
    {
     "name": "stderr",
     "output_type": "stream",
     "text": [
      "23/08/11 22:53:25 WARN Hello Sparkx: test warn\n",
      "23/08/11 22:53:25 ERROR Hello Sparkx: test debug\n"
     ]
    }
   ],
   "source": [
    "logger_provider = LoggerProvider.LoggerProvider()\n",
    "logger = logger_provider.get_logger(spark)\n",
    "print(logger)\n",
    "logger.warn(\"test warn\")\n",
    "logger.info(\"test info\")\n",
    "logger.debug(\"test debug\")\n",
    "logger.error(\"test debug\")\n"
   ]
  },
  {
   "cell_type": "code",
   "execution_count": 64,
   "metadata": {},
   "outputs": [
    {
     "name": "stderr",
     "output_type": "stream",
     "text": [
      "[Stage 0:>                                                          (0 + 1) / 1]\r"
     ]
    },
    {
     "name": "stdout",
     "output_type": "stream",
     "text": [
      "+-----+---+\n",
      "| Name|age|\n",
      "+-----+---+\n",
      "| John| 12|\n",
      "| Paul| 20|\n",
      "|Gorge| 25|\n",
      "+-----+---+\n",
      "\n"
     ]
    },
    {
     "name": "stderr",
     "output_type": "stream",
     "text": [
      "                                                                                \r"
     ]
    }
   ],
   "source": [
    "data_list = [\n",
    "    (\"John\", 12),\n",
    "    (\"Paul\", 20),\n",
    "    (\"Gorge\", 25),\n",
    "]\n",
    "\n",
    "df = spark.createDataFrame(data_list).toDF(\"Name\", \"age\")\n",
    "\n",
    "df.show()"
   ]
  },
  {
   "cell_type": "code",
   "execution_count": 65,
   "metadata": {},
   "outputs": [],
   "source": [
    "spark.stop()"
   ]
  }
 ],
 "metadata": {
  "kernelspec": {
   "display_name": ".env",
   "language": "python",
   "name": "python3"
  },
  "language_info": {
   "codemirror_mode": {
    "name": "ipython",
    "version": 3
   },
   "file_extension": ".py",
   "mimetype": "text/x-python",
   "name": "python",
   "nbconvert_exporter": "python",
   "pygments_lexer": "ipython3",
   "version": "3.9.6"
  },
  "orig_nbformat": 4
 },
 "nbformat": 4,
 "nbformat_minor": 2
}
